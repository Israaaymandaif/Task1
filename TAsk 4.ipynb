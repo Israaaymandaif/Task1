{
 "cells": [
  {
   "cell_type": "code",
   "execution_count": 2,
   "id": "cd68bcf2",
   "metadata": {},
   "outputs": [
    {
     "name": "stdout",
     "output_type": "stream",
     "text": [
      "OrderedDict([('Abd el allah', '7'), ('ayman', '50'), ('hajer', '19'), ('israa', '21'), ('muhamed', '16')])\n"
     ]
    }
   ],
   "source": [
    "from collections import OrderedDict\n",
    " \n",
    "dict = {'israa': '21', 'ayman': '50',\n",
    "        'hajer': '19', 'muhamed': '16', 'Abd el allah': '7'}\n",
    "dict1 = OrderedDict(sorted(dict.items()))\n",
    "print(dict1)"
   ]
  },
  {
   "cell_type": "code",
   "execution_count": 13,
   "id": "e584c474",
   "metadata": {},
   "outputs": [],
   "source": [
    "import mylibisraa"
   ]
  },
  {
   "cell_type": "code",
   "execution_count": 17,
   "id": "680a24c8",
   "metadata": {},
   "outputs": [
    {
     "name": "stdout",
     "output_type": "stream",
     "text": [
      "israa ayman daif\n"
     ]
    }
   ],
   "source": [
    "mylibisraa.printisraa()"
   ]
  },
  {
   "cell_type": "code",
   "execution_count": 21,
   "id": "180762ae",
   "metadata": {},
   "outputs": [
    {
     "data": {
      "text/plain": [
       "28"
      ]
     },
     "execution_count": 21,
     "metadata": {},
     "output_type": "execute_result"
    }
   ],
   "source": [
    "mylibisraa.returnvalue(7)"
   ]
  },
  {
   "cell_type": "code",
   "execution_count": 22,
   "id": "5e66e72c",
   "metadata": {},
   "outputs": [
    {
     "data": {
      "text/plain": [
       "21"
      ]
     },
     "execution_count": 22,
     "metadata": {},
     "output_type": "execute_result"
    }
   ],
   "source": [
    "mylibisraa.i"
   ]
  },
  {
   "cell_type": "code",
   "execution_count": 4,
   "id": "4d5d3542",
   "metadata": {},
   "outputs": [
    {
     "ename": "ImportError",
     "evalue": "cannot import name 'lifequeue' from 'queue' (C:\\Users\\Israa Ayman Daif\\anaconda3\\lib\\queue.py)",
     "output_type": "error",
     "traceback": [
      "\u001b[1;31m---------------------------------------------------------------------------\u001b[0m",
      "\u001b[1;31mImportError\u001b[0m                               Traceback (most recent call last)",
      "Input \u001b[1;32mIn [4]\u001b[0m, in \u001b[0;36m<cell line: 1>\u001b[1;34m()\u001b[0m\n\u001b[1;32m----> 1\u001b[0m \u001b[38;5;28;01mfrom\u001b[39;00m \u001b[38;5;21;01mqueue\u001b[39;00m \u001b[38;5;28;01mimport\u001b[39;00m lifequeue \u001b[38;5;28;01mas\u001b[39;00m stack\n\u001b[0;32m      2\u001b[0m st\u001b[38;5;241m=\u001b[39m stack\n\u001b[0;32m      3\u001b[0m i\u001b[38;5;241m=\u001b[39m \u001b[38;5;28minput\u001b[39m(\u001b[38;5;124m\"\u001b[39m\u001b[38;5;124mplz enter num \u001b[39m\u001b[38;5;124m\"\u001b[39m)\n",
      "\u001b[1;31mImportError\u001b[0m: cannot import name 'lifequeue' from 'queue' (C:\\Users\\Israa Ayman Daif\\anaconda3\\lib\\queue.py)"
     ]
    }
   ],
   "source": [
    "from queue import lifequeue as stack\n",
    "st= stack\n",
    "i= input(\"plz enter num \")\n",
    "def putintostack(i):\n",
    "    while true:\n",
    "        if i==0:\n",
    "            break\n",
    "        else:\n",
    "            st.put(i)\n",
    "            \n",
    "putintostack(i)"
   ]
  },
  {
   "cell_type": "code",
   "execution_count": null,
   "id": "45f714f0",
   "metadata": {},
   "outputs": [],
   "source": []
  }
 ],
 "metadata": {
  "kernelspec": {
   "display_name": "Python 3 (ipykernel)",
   "language": "python",
   "name": "python3"
  },
  "language_info": {
   "codemirror_mode": {
    "name": "ipython",
    "version": 3
   },
   "file_extension": ".py",
   "mimetype": "text/x-python",
   "name": "python",
   "nbconvert_exporter": "python",
   "pygments_lexer": "ipython3",
   "version": "3.9.12"
  }
 },
 "nbformat": 4,
 "nbformat_minor": 5
}
