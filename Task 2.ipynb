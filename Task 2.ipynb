{
 "cells": [
  {
   "cell_type": "code",
   "execution_count": 1,
   "id": "19a89539",
   "metadata": {},
   "outputs": [
    {
     "name": "stdout",
     "output_type": "stream",
     "text": [
      "the number is 1505\n",
      "the number is 1540\n",
      "the number is 1575\n",
      "the number is 1610\n",
      "the number is 1645\n",
      "the number is 1680\n",
      "the number is 1715\n",
      "the number is 1750\n",
      "the number is 1785\n",
      "the number is 1820\n",
      "the number is 1855\n",
      "the number is 1890\n",
      "the number is 1925\n",
      "the number is 1960\n",
      "the number is 1995\n",
      "the number is 2030\n",
      "the number is 2065\n",
      "the number is 2100\n",
      "the number is 2135\n",
      "the number is 2170\n",
      "the number is 2205\n",
      "the number is 2240\n",
      "the number is 2275\n",
      "the number is 2310\n",
      "the number is 2345\n",
      "the number is 2380\n",
      "the number is 2415\n",
      "the number is 2450\n",
      "the number is 2485\n",
      "the number is 2520\n",
      "the number is 2555\n",
      "the number is 2590\n",
      "the number is 2625\n",
      "the number is 2660\n",
      "the number is 2695\n"
     ]
    }
   ],
   "source": [
    "#*Write a Python program to find those numbers which are divisible by 7\n",
    "#and multiple of 5, between 1500 and 2700 (both included)\n",
    "for x in range (1500,2700 ,5):\n",
    "    if (x%7==0):\n",
    "     print (\"the number is\" , x)\n",
    "\n"
   ]
  },
  {
   "cell_type": "code",
   "execution_count": 3,
   "id": "efedb375",
   "metadata": {},
   "outputs": [
    {
     "name": "stdout",
     "output_type": "stream",
     "text": [
      "plz enter temp 30\n",
      "enter f if farenhaite and c if it celesiece c\n",
      "9.555555555555555\n"
     ]
    }
   ],
   "source": [
    "#Write a Python program to convert temperatures to and from celsius,\n",
    "#fahrenheit.\n",
    "\n",
    "temp = float(input(\"plz enter temp \"))\n",
    "degree=input(\"enter f if farenhaite and c if it celesiece \")\n",
    "if degree== \"f\":\n",
    "    print((c*1.8) +32)\n",
    "elif degree== \"c\":\n",
    "    print(temp/5+32/9)"
   ]
  },
  {
   "cell_type": "code",
   "execution_count": 15,
   "id": "c6a8463e",
   "metadata": {},
   "outputs": [
    {
     "name": "stdout",
     "output_type": "stream",
     "text": [
      "\n",
      "* \n",
      "* * \n",
      "* * * \n",
      "* * * * \n",
      "* * * * * \n",
      "* * * * \n",
      "* * * \n",
      "* * \n",
      "* \n"
     ]
    }
   ],
   "source": [
    "#Write a Python program to construct the following pattern, using a\n",
    "#nested for loop.\n",
    "\n",
    "n=5;\n",
    "for i in range(n):\n",
    "    for j in range(i):\n",
    "        print ('* ', end=\"\")\n",
    "    print('')\n",
    "\n",
    "for i in range(n,0,-1):\n",
    "    for j in range(i):\n",
    "        print('* ', end=\"\")\n",
    "    print('')"
   ]
  },
  {
   "cell_type": "code",
   "execution_count": 12,
   "id": "3edcc597",
   "metadata": {},
   "outputs": [
    {
     "name": "stdout",
     "output_type": "stream",
     "text": [
      "input a word to reverse israa\n"
     ]
    },
    {
     "data": {
      "text/plain": [
       "'aarsi'"
      ]
     },
     "execution_count": 12,
     "metadata": {},
     "output_type": "execute_result"
    }
   ],
   "source": [
    "#Write a Python program that accepts a word from the user and reverse\n",
    "#it.\n",
    "\n",
    "word = input (\"input a word to reverse \")\n",
    "word[::-1]"
   ]
  },
  {
   "cell_type": "code",
   "execution_count": 9,
   "id": "8b5d3cf2",
   "metadata": {},
   "outputs": [
    {
     "name": "stdout",
     "output_type": "stream",
     "text": [
      "plz enter number 55\n",
      "plz enter number2 66\n",
      "plz enter number3 103\n"
     ]
    },
    {
     "data": {
      "text/plain": [
       "103.0"
      ]
     },
     "execution_count": 9,
     "metadata": {},
     "output_type": "execute_result"
    }
   ],
   "source": [
    "#Write a Python function to find the Max of three numbers.\n",
    "\n",
    "a=input(\"plz enter number \")\n",
    "a=float (a)\n",
    "b=input(\"plz enter number2 \")\n",
    "b=float(b)\n",
    "c=input(\"plz enter number3 \")\n",
    "c=float(c)\n",
    "list = [a , b ,c]\n",
    "max(list)"
   ]
  },
  {
   "cell_type": "code",
   "execution_count": 10,
   "id": "11142630",
   "metadata": {},
   "outputs": [
    {
     "name": "stdout",
     "output_type": "stream",
     "text": [
      "plz enter number 22\n",
      "plz enter number2 33\n",
      "plz enter number3 66\n"
     ]
    },
    {
     "data": {
      "text/plain": [
       "121.0"
      ]
     },
     "execution_count": 10,
     "metadata": {},
     "output_type": "execute_result"
    }
   ],
   "source": [
    "#Write a Python function to sum all the numbers in a list.\n",
    "\n",
    "a=input(\"plz enter number \")\n",
    "a=float (a)\n",
    "b=input(\"plz enter number2 \")\n",
    "b=float(b)\n",
    "c=input(\"plz enter number3 \")\n",
    "c=float(c)\n",
    "list = [a , b ,c]\n",
    "sum(list)"
   ]
  },
  {
   "cell_type": "code",
   "execution_count": 11,
   "id": "63d7a9ed",
   "metadata": {},
   "outputs": [
    {
     "name": "stdout",
     "output_type": "stream",
     "text": [
      "0\n",
      "1\n",
      "2\n",
      "4\n",
      "5\n"
     ]
    }
   ],
   "source": [
    "#Write a Python program that prints all the numbers from 0 to 6 except 3\n",
    "#and 6.\n",
    "\n",
    "for x in range (0,7):\n",
    "    if (x==3 or x==6):\n",
    "        continue\n",
    "       \n",
    "    print(x )"
   ]
  },
  {
   "cell_type": "code",
   "execution_count": 13,
   "id": "d11b07c4",
   "metadata": {},
   "outputs": [
    {
     "name": "stdout",
     "output_type": "stream",
     "text": [
      "Input a number to compute the factiorial : 5\n",
      "120\n"
     ]
    }
   ],
   "source": [
    "#Write a Python function to calculate the factorial of a number (a nonnegative integer). The function accepts the number as an argument.\n",
    "\n",
    "def factorial(n):\n",
    "    if n == 0:\n",
    "        return 1\n",
    "    else:\n",
    "        return n * factorial(n-1)\n",
    "n=int(input(\"Input a number to compute the factiorial : \"))\n",
    "print(factorial(n))"
   ]
  },
  {
   "cell_type": "code",
   "execution_count": 14,
   "id": "e72d5f9f",
   "metadata": {},
   "outputs": [
    {
     "name": "stdout",
     "output_type": "stream",
     "text": [
      "[1, 2, 3, 4, 5]\n"
     ]
    }
   ],
   "source": [
    "#Write a Python function that takes a list and returns a new list with\n",
    "#unique elements of the first list.\n",
    "\n",
    "def unique_list(l):\n",
    "  x = []\n",
    "  for a in l:\n",
    "    if a not in x:\n",
    "      x.append(a)\n",
    "  return x\n",
    "\n",
    "print(unique_list([1,2,3,3,3,3,4,5]))\n"
   ]
  },
  {
   "cell_type": "code",
   "execution_count": null,
   "id": "22989bb4",
   "metadata": {},
   "outputs": [],
   "source": []
  }
 ],
 "metadata": {
  "kernelspec": {
   "display_name": "Python 3 (ipykernel)",
   "language": "python",
   "name": "python3"
  },
  "language_info": {
   "codemirror_mode": {
    "name": "ipython",
    "version": 3
   },
   "file_extension": ".py",
   "mimetype": "text/x-python",
   "name": "python",
   "nbconvert_exporter": "python",
   "pygments_lexer": "ipython3",
   "version": "3.9.12"
  }
 },
 "nbformat": 4,
 "nbformat_minor": 5
}
