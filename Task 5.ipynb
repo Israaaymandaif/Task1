{
 "cells": [
  {
   "cell_type": "markdown",
   "id": "8d193b1a",
   "metadata": {},
   "source": [
    "<h3 style = 'color:00534a;'>Why we use protected in Python?:</h3>\n",
    "\n"
   ]
  },
  {
   "cell_type": "markdown",
   "id": "89799c86",
   "metadata": {},
   "source": [
    "This enables specific resources of the parent class to be inherited by the child class. Python's convention to make an instance variable protected is to add a prefix _ (single underscore) to it. This effectively prevents it from being accessed unless it is from within a sub-class.\n"
   ]
  },
  {
   "cell_type": "markdown",
   "id": "fce18206",
   "metadata": {},
   "source": [
    "<h3 style = 'color:00634a;'Why we use public private and protected?;</\n"
   ]
  },
  {
   "cell_type": "markdown",
   "id": "c9e316f7",
   "metadata": {},
   "source": [
    "​ If the class member declared as public then it can be accessed everywhere. If the class members declared as protected then it can be accessed only within the class itself and by inheriting child classes. If the class members declared as private then it may only be accessed by the class that defines the member"
   ]
  }
 ],
 "metadata": {
  "kernelspec": {
   "display_name": "Python 3 (ipykernel)",
   "language": "python",
   "name": "python3"
  },
  "language_info": {
   "codemirror_mode": {
    "name": "ipython",
    "version": 3
   },
   "file_extension": ".py",
   "mimetype": "text/x-python",
   "name": "python",
   "nbconvert_exporter": "python",
   "pygments_lexer": "ipython3",
   "version": "3.9.12"
  }
 },
 "nbformat": 4,
 "nbformat_minor": 5
}
