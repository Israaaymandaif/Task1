{
 "cells": [
  {
   "cell_type": "markdown",
   "id": "2a786070",
   "metadata": {},
   "source": [
    "<h3 style = 'color:00534a;'> 1. Architecture patterns (Types,Usage)"
   ]
  },
  {
   "cell_type": "markdown",
   "id": "9d78cec4",
   "metadata": {},
   "source": [
    "<h4 style = 'color:00534a;'>Software architecture :- \n",
    "             <h5 style = 'color:00534a;'> is the blueprint of building software. It shows the overall structure \n",
    "of the software, the collection of components in it, and how they interact with one \n",
    "another while hiding the implementation. This helps the software development \n",
    "team to clearly communicate how the software is going to be built as per the \n",
    "requirements of customers"
   ]
  },
  {
   "cell_type": "markdown",
   "id": "d16742c7",
   "metadata": {},
   "source": [
    "<h3 style = 'color:00534a;'> Types of software architchre :-\n",
    "<h4 style = 'color:00534a;'>1. Layered Pattern\n",
    "<h4 style = 'color:00534a;'>2. Client-Server Pattern\n",
    "<h4 style = 'color:00534a;'>3. Event-Driven Pattern\n",
    "<h4 style = 'color:00534a;'>4. Microkernel Pattern\n",
    "<h4 style = 'color:00534a;'>5. Microservices Pattern"
   ]
  },
  {
   "cell_type": "markdown",
   "id": "da25c9a7",
   "metadata": {},
   "source": [
    "<h3 style = 'color:00534a;'>Layered Pattern\n",
    "<h4 style = 'color:00534a;'>As the name suggests, components(code) in this pattern are separated into \n",
    "<h4 style = 'color:00534a;'>layers of subtasks and they are arranged one above another. \n",
    "<h4 style = 'color:00534a;'>Each layer has unique tasks to do and all the layers are independent of one \n",
    "<h4 style = 'color:00534a;'>another. Since each layer is independent, one can modify the code inside a \n",
    "<h4 style = 'color:00534a;'>layer without affecting others. \n",
    "<h4 style = 'color:00534a;'>It is the most commonly used pattern for designing the majority of software. \n",
    "<h4 style = 'color:00534a;'>This layer is also known as ‘N-tier architecture’. Basically, this pattern has 4 \n",
    "<h4 style = 'color:00534a;'>layers. \n",
    "<h4 style = 'color:00534a;'>1. Presentation layer (The user interface layer where we see and enter data \n",
    "<h4 style = 'color:00534a;'>into an application.)\n",
    "<h4 style = 'color:00534a;'>2. Business layer (this layer is responsible for executing business logic as per \n",
    "<h4 style = 'color:00534a;'>the request.)\n",
    "<h4 style = 'color:00534a;'>3. Application layer (this layer acts as a medium for communication between \n",
    "<h4 style = 'color:00534a;'>the ‘presentation layer’ and ‘data layer’.\n",
    "<h4 style = 'color:00534a;'>4. Data layer (this layer has a database for managing data.)\n",
    "<h4 style = 'color:00534a;'>Ideal for: \n",
    "<h4 style = 'color:00534a;'>E-commerce web applications development like Amazon. \n",
    "\n"
   ]
  },
  {
   "cell_type": "markdown",
   "id": "ceab7320",
   "metadata": {},
   "source": [
    "<h4 style = 'color:00534a;'>Client-Server Pattern\n",
    "<h4 style = 'color:00534a;'>The client-server pattern has two major entities. They are a server and multiple \n",
    "<h4 style = 'color:00534a;'>clients. \n",
    "<h4 style = 'color:00534a;'>Here the server has resources(data, files or services) and a client requests the \n",
    "<h4 style = 'color:00534a;'>server for a particular resource. Then the server processes the request and \n",
    "<h4 style = 'color:00534a;'>responds back accordingly.\n",
    "<h4 style = 'color:00534a;'>Examples of software developed in this pattern: \n",
    "<h4 style = 'color:00534a;'> Email.\n",
    "<h4 style = 'color:00534a;'> WWW.\n",
    "<h4 style = 'color:00534a;'> File sharing apps.\n",
    "<h4 style = 'color:00534a;'> Banking, etc…\n",
    "<h4 style = 'color:00534a;'>So this pattern is suitable for developing the kind of software listed in the \n",
    "<h4 style = 'color:00534a;'>examples."
   ]
  },
  {
   "cell_type": "markdown",
   "id": "42fd2bde",
   "metadata": {},
   "source": [
    "<h3 style = 'color:00534a;'>Event-Driven Pattern\n",
    "<h4 style = 'color:00534a;'>Event-Driven Architecture is an agile approach in which services (operations) of \n",
    "<h4 style = 'color:00534a;'>the software are triggered by events. \n",
    "<h4 style = 'color:00534a;'>Well, what does an event mean? \n",
    "<h4 style = 'color:00534a;'>When a user takes action in the application built using the EDA approach, a \n",
    "<h4 style = 'color:00534a;'>state change happens and a reaction is generated that is called an event.\n",
    "<h4 style = 'color:00534a;'>Eg: A new user fills the signup form and clicks the signup button on Facebook \n",
    "<h4 style = 'color:00534a;'>and then a FB account is created for him, which is an event.\n",
    "<h4 style = 'color:00534a;'>Ideal for: \n",
    "<h4 style = 'color:00534a;'>Building websites with JavaScript and e-commerce websites in general. "
   ]
  },
  {
   "cell_type": "markdown",
   "id": "4ea8c166",
   "metadata": {},
   "source": [
    "<h3 style = 'color:00534a;'>Microkernel Pattern :\n",
    "<h4 style = 'color:00534a;'>Microkernel pattern has two major components. They are a core system and \n",
    "<h4 style = 'color:00534a;'>plug-in modules.\n",
    "<h4 style = 'color:00534a;'> The core system handles the fundamental and minimal operations of the \n",
    "<h4 style = 'color:00534a;'>application.\n",
    "<h4 style = 'color:00534a;'> The plug-in modules handle the extended functionalities (like extra features) \n",
    "<h4 style = 'color:00534a;'>and customized processing"
   ]
  },
  {
   "cell_type": "markdown",
   "id": "18736628",
   "metadata": {},
   "source": [
    "<h3 style = 'color:00534a;'>Microservices Pattern :\n",
    "<h4 style = 'color:00534a;'>The collection of small services that are combined to form the actual application \n",
    "<h4 style = 'color:00534a;'>is the concept of microservices pattern. Instead of building a bigger application, \n",
    "<h4 style = 'color:00534a;'>small programs are built for every service (function) of an application \n",
    "<h4 style = 'color:00534a;'>independently. And those small programs are bundled together to be a full-fledged application. \n",
    "<h4 style = 'color:00534a;'>So adding new features and modifying existing microservices without affecting \n",
    "<h4 style = 'color:00534a;'>other microservices are no longer a challenge when an application is built in a \n",
    "<h4 style = 'color:00534a;'>microservices pattern. \n",
    "<h4 style = 'color:00534a;'>Modules in the application of microservices patterns are loosely coupled. So \n",
    "<h4 style = 'color:00534a;'>they are easily understandable, modifiable and scalable. \n",
    "<h4 style = 'color:00534a;'>Example Netflix is one of the most popular examples of software built-in \n",
    "<h4 style = 'color:00534a;'>microservices architecture. This pattern is most suitable for websites and web \n",
    "<h4 style = 'color:00534a;'>apps having small components.\n"
   ]
  },
  {
   "cell_type": "markdown",
   "id": "7a9b2218",
   "metadata": {},
   "source": [
    "<h2 style = 'color:00534a;'>2-What is cron jobs?"
   ]
  },
  {
   "cell_type": "markdown",
   "id": "c32f144f",
   "metadata": {},
   "source": [
    "<h3 style = 'color:00534a;'>cron job is a command that is executed in the background by an \n",
    "<h3 style = 'color:00534a;'>operating system automatically. They are used for specific tasks like \n",
    "<h3 style = 'color:00534a;'>maintaining databases, cleaning unwanted files which can clog up your \n",
    "<h3 style = 'color:00534a;'>computer, or even triggering emails to be sent out at certain times"
   ]
  },
  {
   "cell_type": "code",
   "execution_count": null,
   "id": "ab2f0519",
   "metadata": {},
   "outputs": [],
   "source": []
  }
 ],
 "metadata": {
  "kernelspec": {
   "display_name": "Python 3 (ipykernel)",
   "language": "python",
   "name": "python3"
  },
  "language_info": {
   "codemirror_mode": {
    "name": "ipython",
    "version": 3
   },
   "file_extension": ".py",
   "mimetype": "text/x-python",
   "name": "python",
   "nbconvert_exporter": "python",
   "pygments_lexer": "ipython3",
   "version": "3.9.12"
  }
 },
 "nbformat": 4,
 "nbformat_minor": 5
}
