{
 "cells": [
  {
   "cell_type": "markdown",
   "id": "16304951",
   "metadata": {},
   "source": [
    "<h3 style = 'color:00534a;'> Why and how to use protected visibility in python? </h3>"
   ]
  },
  {
   "cell_type": "markdown",
   "id": "c05a9ee7",
   "metadata": {},
   "source": [
    "First in Python 3 things are\n",
    " Public private protected\n",
    "\n",
    " Public\n",
    " You write the function naturally and without under score\n",
    " Also, the properties in this class can be inherited to any other class\n",
    "\n",
    " Protected\n",
    " It is more secure than public and less secure than private\n",
    " It is expressed as 1 Under Score\n",
    "\n",
    " It means that a class can inherit its properties for the classes it is derived from and cannot be inherited to any other class\n",
    "\n",
    "\n",
    " Private\n",
    " It is the most special\n",
    " It is expressed as 2 Under Score\n",
    "\n",
    " It means that the function of this class cannot be inherited to any class even if it is derived from it, it is specific to this class"
   ]
  },
  {
   "cell_type": "markdown",
   "id": "3556ca32",
   "metadata": {},
   "source": [
    "<h3 style = 'color:00534a;'>How to access private data in super class from sub-class </h3>"
   ]
  },
  {
   "cell_type": "markdown",
   "id": "964c382c",
   "metadata": {},
   "source": [
    "b.AcessPrivateMember()              #can access private members when using a buplic function from super class\n",
    "\n",
    "b._majorclass__attr3                 #also can be accessed by adding _parent(superclass)before method or attribute name(__privateattribute)"
   ]
  },
  {
   "cell_type": "markdown",
   "id": "bbf1ebab",
   "metadata": {},
   "source": []
  }
 ],
 "metadata": {
  "kernelspec": {
   "display_name": "Python 3 (ipykernel)",
   "language": "python",
   "name": "python3"
  },
  "language_info": {
   "codemirror_mode": {
    "name": "ipython",
    "version": 3
   },
   "file_extension": ".py",
   "mimetype": "text/x-python",
   "name": "python",
   "nbconvert_exporter": "python",
   "pygments_lexer": "ipython3",
   "version": "3.9.12"
  }
 },
 "nbformat": 4,
 "nbformat_minor": 5
}
